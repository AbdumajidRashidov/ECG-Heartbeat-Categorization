{
 "cells": [
  {
   "attachments": {},
   "cell_type": "markdown",
   "metadata": {},
   "source": [
    "## Importing libraries"
   ]
  },
  {
   "cell_type": "markdown",
   "metadata": {},
   "source": []
  },
  {
   "cell_type": "code",
   "execution_count": 3,
   "metadata": {},
   "outputs": [],
   "source": [
    "import numpy as np # linear algebra\n",
    "import pandas as pd # data processing, CSV file I/O (e.g. pd.read_csv)\n",
    "import matplotlib.pyplot as plt\n",
    "import os\n",
    "\n",
    "from sklearn.model_selection import train_test_split\n",
    "from sklearn.preprocessing import normalize\n",
    "from sklearn.metrics import classification_report, confusion_matrix, ConfusionMatrixDisplay\n",
    "from sklearn.utils import resample\n",
    "\n",
    "import tensorflow as tf\n",
    "import tensorflow_addons as tfa\n",
    "from tensorflow import keras\n",
    "from keras.layers import Dense, Conv1D, MaxPool1D, Flatten, Dropout, InputLayer, LSTM, GRU, BatchNormalization, \\\n",
    "    Bidirectional, Concatenate\n",
    "from keras.models import Model\n",
    "from keras.callbacks import EarlyStopping, ModelCheckpoint\n",
    "from keras.utils import to_categorical\n",
    "from sklearn.metrics import accuracy_score\n",
    "\n",
    "import itertools\n",
    "import matplotlib.pyplot as plt"
   ]
  },
  {
   "attachments": {},
   "cell_type": "markdown",
   "metadata": {},
   "source": [
    "## importing data"
   ]
  },
  {
   "cell_type": "code",
   "execution_count": 4,
   "metadata": {},
   "outputs": [
    {
     "name": "stdout",
     "output_type": "stream",
     "text": [
      "MIT Train classes: \n",
      " Class\n",
      "0.0    72471\n",
      "4.0     6431\n",
      "2.0     5788\n",
      "1.0     2223\n",
      "3.0      641\n",
      "Name: count, dtype: int64\n",
      "\n",
      "MIT Test classes: \n",
      " Class\n",
      "0.0    18118\n",
      "4.0     1608\n",
      "2.0     1448\n",
      "1.0      556\n",
      "3.0      162\n",
      "Name: count, dtype: int64\n",
      "(87554, 188)\n",
      "(21892, 188)\n"
     ]
    }
   ],
   "source": [
    "mit_test = pd.read_csv('./data/mitbih_test.csv', header=None)\n",
    "mit_train = pd.read_csv('./data/mitbih_train.csv', header=None)\n",
    "mit_test.rename(columns={187: \"Class\"}, inplace=True)\n",
    "mit_train.rename(columns={187: \"Class\"}, inplace=True)\n",
    "print(\"MIT Train classes: \\n\", mit_train[\"Class\"].value_counts())\n",
    "print(\"\\nMIT Test classes: \\n\", mit_test[\"Class\"].value_counts())\n",
    "print(mit_train.shape)\n",
    "print(mit_test.shape)\n",
    "MIT_Outcome = {0.: 'N',\n",
    "               1.: 'S',\n",
    "               2.: 'V',\n",
    "               3.: 'F',\n",
    "               4.: 'Q'}"
   ]
  },
  {
   "attachments": {},
   "cell_type": "markdown",
   "metadata": {},
   "source": [
    "#### Setting Dictionary to define the type of Heartbeat\n",
    "##### N: normal\n",
    "##### S: Supraventricular premature beat\n",
    "##### P: Premature ventricular contraction\n",
    "##### F: Fusion of ventricular and normal beat\n",
    "##### U: Unclassifiable beat"
   ]
  },
  {
   "cell_type": "code",
   "execution_count": 5,
   "metadata": {},
   "outputs": [],
   "source": [
    "train_mit, valid_mit = train_test_split(mit_train, test_size=0.20, random_state=42)\n",
    "class_0 = train_mit[train_mit[\"Class\"] == 0]\n",
    "class_1 = train_mit[train_mit[\"Class\"] == 1]\n",
    "class_2 = train_mit[train_mit[\"Class\"] == 2]\n",
    "class_3 = train_mit[train_mit[\"Class\"] == 3]\n",
    "class_4 = train_mit[train_mit[\"Class\"] == 4]"
   ]
  },
  {
   "attachments": {},
   "cell_type": "markdown",
   "metadata": {},
   "source": [
    "### upsampling and equalize the number of sample for each class\n"
   ]
  },
  {
   "cell_type": "code",
   "execution_count": 6,
   "metadata": {},
   "outputs": [],
   "source": [
    "class_0_upsample = class_0\n",
    "class_1_upsample = resample(class_1, replace=True, n_samples=10000, random_state=123)\n",
    "class_2_upsample = resample(class_2, replace=True, n_samples=10000, random_state=124)\n",
    "class_3_upsample = resample(class_3, replace=True, n_samples=10000, random_state=125)\n",
    "class_4_upsample = resample(class_4, replace=True, n_samples=10000, random_state=126)"
   ]
  },
  {
   "attachments": {},
   "cell_type": "markdown",
   "metadata": {},
   "source": [
    "### combine\n"
   ]
  },
  {
   "cell_type": "code",
   "execution_count": 7,
   "metadata": {},
   "outputs": [],
   "source": [
    "mit_train = pd.concat([class_0_upsample, class_1_upsample, class_2_upsample, class_3_upsample, class_4_upsample])\n",
    "train_mit, out_train_mit = mit_train.iloc[:, :187], mit_train.iloc[:, -1]\n",
    "valid_mit, out_valid_mit = valid_mit.iloc[:, :187], valid_mit.iloc[:, -1]\n",
    "test_mit, out_test_mit = mit_test.iloc[:, :187], mit_test.iloc[:, -1]"
   ]
  },
  {
   "attachments": {},
   "cell_type": "markdown",
   "metadata": {},
   "source": [
    "### Normalizing the training, validation & test data"
   ]
  },
  {
   "cell_type": "code",
   "execution_count": 8,
   "metadata": {},
   "outputs": [],
   "source": [
    "\n",
    "train_mit = normalize(train_mit, axis=0, norm='max')\n",
    "valid_mit = normalize(valid_mit, axis=0, norm='max')\n",
    "test_mit = normalize(test_mit, axis=0, norm='max')"
   ]
  },
  {
   "attachments": {},
   "cell_type": "markdown",
   "metadata": {},
   "source": [
    "### Reshaping the dataframe into a 3-D Numpy array (batch, Time Period, Value)\n"
   ]
  },
  {
   "cell_type": "code",
   "execution_count": 9,
   "metadata": {},
   "outputs": [],
   "source": [
    "\n",
    "x_train_mit = train_mit.reshape(len(train_mit), train_mit.shape[1], 1)\n",
    "x_valid_mit = valid_mit.reshape(len(valid_mit), valid_mit.shape[1], 1)\n",
    "x_test_mit = test_mit.reshape(len(test_mit), test_mit.shape[1], 1)"
   ]
  },
  {
   "attachments": {},
   "cell_type": "markdown",
   "metadata": {},
   "source": [
    "### Converting the output into a categorical array"
   ]
  },
  {
   "cell_type": "code",
   "execution_count": 10,
   "metadata": {},
   "outputs": [
    {
     "name": "stdout",
     "output_type": "stream",
     "text": [
      "Traing dataset size:  (97892, 187, 1)  -- Y size:  (97892, 5)\n",
      "Validation dataset size:  (17511, 187, 1)  -- Y size:  (17511, 5)\n",
      "Test dataset size:  (21892, 187, 1)  -- Y size:  (21892, 5)\n"
     ]
    }
   ],
   "source": [
    "y_train_mit = to_categorical(out_train_mit)\n",
    "y_valid_mit = to_categorical(out_valid_mit)\n",
    "y_test_mit = to_categorical(out_test_mit)\n",
    "len(test_mit)\n",
    "print(\"Traing dataset size: \", x_train_mit.shape, \" -- Y size: \", y_train_mit.shape)\n",
    "print(\"Validation dataset size: \", x_valid_mit.shape, \" -- Y size: \", y_valid_mit.shape)\n",
    "print(\"Test dataset size: \", x_test_mit.shape, \" -- Y size: \", y_test_mit.shape)"
   ]
  },
  {
   "attachments": {},
   "cell_type": "markdown",
   "metadata": {},
   "source": [
    "## CNN Model"
   ]
  },
  {
   "cell_type": "code",
   "execution_count": 11,
   "metadata": {},
   "outputs": [],
   "source": [
    "\n",
    "\n",
    "def build_conv1d_model_mit(input_shape=(x_train_mit.shape[1], 1)):\n",
    "    model = keras.models.Sequential()\n",
    "\n",
    "    input_ = tf.keras.layers.Input(shape=(input_shape))\n",
    "\n",
    "    conv1_1 = Conv1D(32, 5, padding='same', input_shape=input_shape)(input_)\n",
    "    conv1_1 = BatchNormalization()(conv1_1)\n",
    "\n",
    "    conv1_2 = Conv1D(32, 5, padding='same')(conv1_1)\n",
    "    conv1_2 = BatchNormalization()(conv1_2)\n",
    "    conv1_2 = tf.keras.layers.ReLU()(conv1_2)\n",
    "\n",
    "    conv1_3 = Conv1D(32, 5, padding='same')(conv1_2)\n",
    "    conv1_3 = BatchNormalization()(conv1_3)\n",
    "\n",
    "    concat_1 = Concatenate()([conv1_1, conv1_3])\n",
    "    concat_1 = tf.keras.layers.ReLU()(concat_1)\n",
    "    max_1 = MaxPool1D(5, padding=\"same\")(concat_1)\n",
    "    #\n",
    "    conv1_4 = Conv1D(32, 5, padding='same')(max_1)\n",
    "    conv1_4 = BatchNormalization()(conv1_4)\n",
    "    conv1_4 = tf.keras.layers.ReLU()(conv1_4)\n",
    "\n",
    "    conv1_5 = Conv1D(32, 5, padding='same')(conv1_4)\n",
    "    conv1_5 = BatchNormalization()(conv1_5)\n",
    "\n",
    "    concat_2 = Concatenate()([max_1, conv1_5])\n",
    "    concat_2 = tf.keras.layers.ReLU()(concat_2)\n",
    "    max_2 = MaxPool1D(5, strides=2, padding=\"same\")(concat_2)\n",
    "    #\n",
    "    conv1_6 = Conv1D(32, 5, padding='same')(max_2)\n",
    "    conv1_6 = BatchNormalization()(conv1_6)\n",
    "    conv1_6 = tf.keras.layers.ReLU()(conv1_6)\n",
    "\n",
    "    conv1_7 = Conv1D(32, 5, padding='same')(conv1_6)\n",
    "    conv1_7 = BatchNormalization()(conv1_7)\n",
    "\n",
    "    concat_3 = Concatenate()([max_2, conv1_7])\n",
    "    concat_3 = tf.keras.layers.ReLU()(concat_3)\n",
    "    max_3 = MaxPool1D(5, padding=\"same\")(concat_3)\n",
    "    #\n",
    "    conv1_8 = Conv1D(32, 5, padding='same')(max_3)\n",
    "    conv1_8 = BatchNormalization()(conv1_8)\n",
    "    conv1_8 = tf.keras.layers.ReLU()(conv1_8)\n",
    "\n",
    "    conv1_9 = Conv1D(32, 5, padding='same')(conv1_8)\n",
    "    conv1_9 = BatchNormalization()(conv1_9)\n",
    "\n",
    "    concat_4 = Concatenate()([max_3, conv1_9])\n",
    "    concat_4 = tf.keras.layers.ReLU()(concat_4)\n",
    "    max_4 = MaxPool1D(5, padding=\"same\")(concat_4)\n",
    "    #\n",
    "    conv1_10 = Conv1D(32, 5, padding='same')(max_4)\n",
    "    conv1_10 = BatchNormalization()(conv1_10)\n",
    "    conv1_10 = tf.keras.layers.ReLU()(conv1_10)\n",
    "\n",
    "    conv1_11 = Conv1D(32, 5, padding='same')(conv1_10)\n",
    "    conv1_11 = BatchNormalization()(conv1_11)\n",
    "\n",
    "    concat_5 = Concatenate()([max_4, conv1_11])\n",
    "    concat_5 = tf.keras.layers.ReLU()(concat_5)\n",
    "    max_5 = MaxPool1D(5, strides=2, padding=\"same\")(concat_5)\n",
    "\n",
    "    flat = Flatten()(max_5)\n",
    "    dense_1 = Dense(32, activation='relu')(flat)\n",
    "    dense_2 = Dense(5, activation=\"softmax\")(dense_1)\n",
    "\n",
    "    model = Model(inputs=input_, outputs=dense_2)\n",
    "\n",
    "    model.compile(optimizer=\"adam\", loss=\"categorical_crossentropy\", metrics=[tfa.metrics.F1Score(2, \"micro\")])\n",
    "    return model"
   ]
  },
  {
   "cell_type": "code",
   "execution_count": 12,
   "metadata": {},
   "outputs": [
    {
     "name": "stdout",
     "output_type": "stream",
     "text": [
      "Model: \"model\"\n",
      "__________________________________________________________________________________________________\n",
      " Layer (type)                Output Shape                 Param #   Connected to                  \n",
      "==================================================================================================\n",
      " input_1 (InputLayer)        [(None, 187, 1)]             0         []                            \n",
      "                                                                                                  \n",
      " conv1d (Conv1D)             (None, 187, 32)              192       ['input_1[0][0]']             \n",
      "                                                                                                  \n",
      " batch_normalization (Batch  (None, 187, 32)              128       ['conv1d[0][0]']              \n",
      " Normalization)                                                                                   \n",
      "                                                                                                  \n",
      " conv1d_1 (Conv1D)           (None, 187, 32)              5152      ['batch_normalization[0][0]'] \n",
      "                                                                                                  \n",
      " batch_normalization_1 (Bat  (None, 187, 32)              128       ['conv1d_1[0][0]']            \n",
      " chNormalization)                                                                                 \n",
      "                                                                                                  \n",
      " re_lu (ReLU)                (None, 187, 32)              0         ['batch_normalization_1[0][0]'\n",
      "                                                                    ]                             \n",
      "                                                                                                  \n",
      " conv1d_2 (Conv1D)           (None, 187, 32)              5152      ['re_lu[0][0]']               \n",
      "                                                                                                  \n",
      " batch_normalization_2 (Bat  (None, 187, 32)              128       ['conv1d_2[0][0]']            \n",
      " chNormalization)                                                                                 \n",
      "                                                                                                  \n",
      " concatenate (Concatenate)   (None, 187, 64)              0         ['batch_normalization[0][0]', \n",
      "                                                                     'batch_normalization_2[0][0]'\n",
      "                                                                    ]                             \n",
      "                                                                                                  \n",
      " re_lu_1 (ReLU)              (None, 187, 64)              0         ['concatenate[0][0]']         \n",
      "                                                                                                  \n",
      " max_pooling1d (MaxPooling1  (None, 38, 64)               0         ['re_lu_1[0][0]']             \n",
      " D)                                                                                               \n",
      "                                                                                                  \n",
      " conv1d_3 (Conv1D)           (None, 38, 32)               10272     ['max_pooling1d[0][0]']       \n",
      "                                                                                                  \n",
      " batch_normalization_3 (Bat  (None, 38, 32)               128       ['conv1d_3[0][0]']            \n",
      " chNormalization)                                                                                 \n",
      "                                                                                                  \n",
      " re_lu_2 (ReLU)              (None, 38, 32)               0         ['batch_normalization_3[0][0]'\n",
      "                                                                    ]                             \n",
      "                                                                                                  \n",
      " conv1d_4 (Conv1D)           (None, 38, 32)               5152      ['re_lu_2[0][0]']             \n",
      "                                                                                                  \n",
      " batch_normalization_4 (Bat  (None, 38, 32)               128       ['conv1d_4[0][0]']            \n",
      " chNormalization)                                                                                 \n",
      "                                                                                                  \n",
      " concatenate_1 (Concatenate  (None, 38, 96)               0         ['max_pooling1d[0][0]',       \n",
      " )                                                                   'batch_normalization_4[0][0]'\n",
      "                                                                    ]                             \n",
      "                                                                                                  \n",
      " re_lu_3 (ReLU)              (None, 38, 96)               0         ['concatenate_1[0][0]']       \n",
      "                                                                                                  \n",
      " max_pooling1d_1 (MaxPoolin  (None, 19, 96)               0         ['re_lu_3[0][0]']             \n",
      " g1D)                                                                                             \n",
      "                                                                                                  \n",
      " conv1d_5 (Conv1D)           (None, 19, 32)               15392     ['max_pooling1d_1[0][0]']     \n",
      "                                                                                                  \n",
      " batch_normalization_5 (Bat  (None, 19, 32)               128       ['conv1d_5[0][0]']            \n",
      " chNormalization)                                                                                 \n",
      "                                                                                                  \n",
      " re_lu_4 (ReLU)              (None, 19, 32)               0         ['batch_normalization_5[0][0]'\n",
      "                                                                    ]                             \n",
      "                                                                                                  \n",
      " conv1d_6 (Conv1D)           (None, 19, 32)               5152      ['re_lu_4[0][0]']             \n",
      "                                                                                                  \n",
      " batch_normalization_6 (Bat  (None, 19, 32)               128       ['conv1d_6[0][0]']            \n",
      " chNormalization)                                                                                 \n",
      "                                                                                                  \n",
      " concatenate_2 (Concatenate  (None, 19, 128)              0         ['max_pooling1d_1[0][0]',     \n",
      " )                                                                   'batch_normalization_6[0][0]'\n",
      "                                                                    ]                             \n",
      "                                                                                                  \n",
      " re_lu_5 (ReLU)              (None, 19, 128)              0         ['concatenate_2[0][0]']       \n",
      "                                                                                                  \n",
      " max_pooling1d_2 (MaxPoolin  (None, 4, 128)               0         ['re_lu_5[0][0]']             \n",
      " g1D)                                                                                             \n",
      "                                                                                                  \n",
      " conv1d_7 (Conv1D)           (None, 4, 32)                20512     ['max_pooling1d_2[0][0]']     \n",
      "                                                                                                  \n",
      " batch_normalization_7 (Bat  (None, 4, 32)                128       ['conv1d_7[0][0]']            \n",
      " chNormalization)                                                                                 \n",
      "                                                                                                  \n",
      " re_lu_6 (ReLU)              (None, 4, 32)                0         ['batch_normalization_7[0][0]'\n",
      "                                                                    ]                             \n",
      "                                                                                                  \n",
      " conv1d_8 (Conv1D)           (None, 4, 32)                5152      ['re_lu_6[0][0]']             \n",
      "                                                                                                  \n",
      " batch_normalization_8 (Bat  (None, 4, 32)                128       ['conv1d_8[0][0]']            \n",
      " chNormalization)                                                                                 \n",
      "                                                                                                  \n",
      " concatenate_3 (Concatenate  (None, 4, 160)               0         ['max_pooling1d_2[0][0]',     \n",
      " )                                                                   'batch_normalization_8[0][0]'\n",
      "                                                                    ]                             \n",
      "                                                                                                  \n",
      " re_lu_7 (ReLU)              (None, 4, 160)               0         ['concatenate_3[0][0]']       \n",
      "                                                                                                  \n",
      " max_pooling1d_3 (MaxPoolin  (None, 1, 160)               0         ['re_lu_7[0][0]']             \n",
      " g1D)                                                                                             \n",
      "                                                                                                  \n",
      " conv1d_9 (Conv1D)           (None, 1, 32)                25632     ['max_pooling1d_3[0][0]']     \n",
      "                                                                                                  \n",
      " batch_normalization_9 (Bat  (None, 1, 32)                128       ['conv1d_9[0][0]']            \n",
      " chNormalization)                                                                                 \n",
      "                                                                                                  \n",
      " re_lu_8 (ReLU)              (None, 1, 32)                0         ['batch_normalization_9[0][0]'\n",
      "                                                                    ]                             \n",
      "                                                                                                  \n",
      " conv1d_10 (Conv1D)          (None, 1, 32)                5152      ['re_lu_8[0][0]']             \n",
      "                                                                                                  \n",
      " batch_normalization_10 (Ba  (None, 1, 32)                128       ['conv1d_10[0][0]']           \n",
      " tchNormalization)                                                                                \n",
      "                                                                                                  \n",
      " concatenate_4 (Concatenate  (None, 1, 192)               0         ['max_pooling1d_3[0][0]',     \n",
      " )                                                                   'batch_normalization_10[0][0]\n",
      "                                                                    ']                            \n",
      "                                                                                                  \n",
      " re_lu_9 (ReLU)              (None, 1, 192)               0         ['concatenate_4[0][0]']       \n",
      "                                                                                                  \n",
      " max_pooling1d_4 (MaxPoolin  (None, 1, 192)               0         ['re_lu_9[0][0]']             \n",
      " g1D)                                                                                             \n",
      "                                                                                                  \n",
      " flatten (Flatten)           (None, 192)                  0         ['max_pooling1d_4[0][0]']     \n",
      "                                                                                                  \n",
      " dense (Dense)               (None, 32)                   6176      ['flatten[0][0]']             \n",
      "                                                                                                  \n",
      " dense_1 (Dense)             (None, 5)                    165       ['dense[0][0]']               \n",
      "                                                                                                  \n",
      "==================================================================================================\n",
      "Total params: 110661 (432.27 KB)\n",
      "Trainable params: 109957 (429.52 KB)\n",
      "Non-trainable params: 704 (2.75 KB)\n",
      "__________________________________________________________________________________________________\n",
      "Epoch 1/50\n",
      "327/327 [==============================] - 31s 89ms/step - loss: 0.2196 - f1_score: 0.9303 - val_loss: 3.8200 - val_f1_score: 0.0876\n",
      "Epoch 2/50\n",
      "  1/327 [..............................] - ETA: 26s - loss: 0.1466 - f1_score: 0.9533"
     ]
    },
    {
     "name": "stderr",
     "output_type": "stream",
     "text": [
      "/Users/mac/anaconda3/lib/python3.11/site-packages/keras/src/engine/training.py:3000: UserWarning: You are saving your model as an HDF5 file via `model.save()`. This file format is considered legacy. We recommend using instead the native Keras format, e.g. `model.save('my_model.keras')`.\n",
      "  saving_api.save_model(\n"
     ]
    },
    {
     "name": "stdout",
     "output_type": "stream",
     "text": [
      "327/327 [==============================] - 31s 96ms/step - loss: 0.1008 - f1_score: 0.9661 - val_loss: 0.1322 - val_f1_score: 0.9565\n",
      "Epoch 3/50\n",
      "327/327 [==============================] - 28s 86ms/step - loss: 0.0704 - f1_score: 0.9757 - val_loss: 0.5468 - val_f1_score: 0.8027\n",
      "Epoch 4/50\n",
      "327/327 [==============================] - 27s 82ms/step - loss: 0.0562 - f1_score: 0.9807 - val_loss: 0.0923 - val_f1_score: 0.9713\n",
      "Epoch 5/50\n",
      "327/327 [==============================] - 27s 84ms/step - loss: 0.0434 - f1_score: 0.9854 - val_loss: 0.1184 - val_f1_score: 0.9698\n",
      "Epoch 6/50\n",
      "327/327 [==============================] - 31s 95ms/step - loss: 0.0376 - f1_score: 0.9871 - val_loss: 0.0880 - val_f1_score: 0.9756\n",
      "Epoch 7/50\n",
      "327/327 [==============================] - 29s 88ms/step - loss: 0.0311 - f1_score: 0.9895 - val_loss: 0.0677 - val_f1_score: 0.9846\n",
      "Epoch 8/50\n",
      "327/327 [==============================] - 27s 82ms/step - loss: 0.0285 - f1_score: 0.9905 - val_loss: 0.0733 - val_f1_score: 0.9809\n",
      "Epoch 9/50\n",
      "327/327 [==============================] - 27s 83ms/step - loss: 0.0268 - f1_score: 0.9908 - val_loss: 0.0682 - val_f1_score: 0.9846\n",
      "Epoch 10/50\n",
      "327/327 [==============================] - 27s 82ms/step - loss: 0.0243 - f1_score: 0.9916 - val_loss: 0.0791 - val_f1_score: 0.9824\n",
      "Epoch 11/50\n",
      "327/327 [==============================] - 28s 84ms/step - loss: 0.0207 - f1_score: 0.9932 - val_loss: 0.0697 - val_f1_score: 0.9857\n",
      "Epoch 12/50\n",
      "327/327 [==============================] - 28s 84ms/step - loss: 0.0188 - f1_score: 0.9936 - val_loss: 0.1620 - val_f1_score: 0.9535\n",
      "Epoch 13/50\n",
      "327/327 [==============================] - 28s 85ms/step - loss: 0.0191 - f1_score: 0.9934 - val_loss: 0.0737 - val_f1_score: 0.9830\n",
      "Epoch 14/50\n",
      "327/327 [==============================] - 29s 88ms/step - loss: 0.0180 - f1_score: 0.9940 - val_loss: 0.0782 - val_f1_score: 0.9850\n",
      "Epoch 15/50\n",
      "327/327 [==============================] - 28s 85ms/step - loss: 0.0180 - f1_score: 0.9939 - val_loss: 0.0779 - val_f1_score: 0.9854\n",
      "Epoch 16/50\n",
      "327/327 [==============================] - 28s 87ms/step - loss: 0.0148 - f1_score: 0.9952 - val_loss: 0.0704 - val_f1_score: 0.9859\n",
      "Epoch 17/50\n",
      "327/327 [==============================] - 27s 82ms/step - loss: 0.0173 - f1_score: 0.9944 - val_loss: 0.0722 - val_f1_score: 0.9836\n",
      "Epoch 18/50\n",
      "327/327 [==============================] - 28s 85ms/step - loss: 0.0111 - f1_score: 0.9964 - val_loss: 0.0765 - val_f1_score: 0.9858\n",
      "Epoch 19/50\n",
      "327/327 [==============================] - 26s 81ms/step - loss: 0.0136 - f1_score: 0.9955 - val_loss: 0.1063 - val_f1_score: 0.9792\n",
      "Epoch 20/50\n",
      "327/327 [==============================] - 27s 82ms/step - loss: 0.0135 - f1_score: 0.9957 - val_loss: 0.0969 - val_f1_score: 0.9837\n",
      "Epoch 21/50\n",
      "327/327 [==============================] - 28s 85ms/step - loss: 0.0106 - f1_score: 0.9964 - val_loss: 0.0889 - val_f1_score: 0.9858\n",
      "Epoch 22/50\n",
      "327/327 [==============================] - 28s 85ms/step - loss: 0.0124 - f1_score: 0.9956 - val_loss: 0.0937 - val_f1_score: 0.9844\n",
      "Epoch 23/50\n",
      "327/327 [==============================] - 27s 84ms/step - loss: 0.0117 - f1_score: 0.9961 - val_loss: 0.1660 - val_f1_score: 0.9589\n",
      "Epoch 24/50\n",
      "327/327 [==============================] - 27s 83ms/step - loss: 0.0095 - f1_score: 0.9970 - val_loss: 0.3155 - val_f1_score: 0.9256\n",
      "Epoch 25/50\n",
      "327/327 [==============================] - 27s 82ms/step - loss: 0.0114 - f1_score: 0.9963 - val_loss: 0.0904 - val_f1_score: 0.9841\n",
      "Epoch 26/50\n",
      "327/327 [==============================] - 26s 81ms/step - loss: 0.0078 - f1_score: 0.9974 - val_loss: 0.0810 - val_f1_score: 0.9865\n",
      "Epoch 27/50\n",
      "327/327 [==============================] - 27s 83ms/step - loss: 0.0083 - f1_score: 0.9972 - val_loss: 0.0828 - val_f1_score: 0.9866\n",
      "Epoch 28/50\n",
      "327/327 [==============================] - 27s 82ms/step - loss: 0.0113 - f1_score: 0.9963 - val_loss: 0.0957 - val_f1_score: 0.9859\n",
      "Epoch 29/50\n",
      "327/327 [==============================] - 26s 80ms/step - loss: 0.0087 - f1_score: 0.9969 - val_loss: 0.0808 - val_f1_score: 0.9846\n",
      "Epoch 30/50\n",
      "327/327 [==============================] - 27s 81ms/step - loss: 0.0075 - f1_score: 0.9977 - val_loss: 0.0823 - val_f1_score: 0.9870\n",
      "Epoch 31/50\n",
      "327/327 [==============================] - 26s 80ms/step - loss: 0.0100 - f1_score: 0.9968 - val_loss: 0.0938 - val_f1_score: 0.9858\n",
      "Epoch 32/50\n",
      "327/327 [==============================] - 27s 82ms/step - loss: 0.0095 - f1_score: 0.9968 - val_loss: 0.0845 - val_f1_score: 0.9881\n",
      "Epoch 33/50\n",
      "327/327 [==============================] - 27s 84ms/step - loss: 0.0066 - f1_score: 0.9979 - val_loss: 0.0905 - val_f1_score: 0.9840\n",
      "Epoch 34/50\n",
      "327/327 [==============================] - 26s 80ms/step - loss: 0.0094 - f1_score: 0.9971 - val_loss: 0.0862 - val_f1_score: 0.9860\n",
      "Epoch 35/50\n",
      "327/327 [==============================] - 27s 83ms/step - loss: 0.0047 - f1_score: 0.9984 - val_loss: 0.0985 - val_f1_score: 0.9834\n",
      "Epoch 36/50\n",
      "327/327 [==============================] - 27s 81ms/step - loss: 0.0056 - f1_score: 0.9982 - val_loss: 0.0992 - val_f1_score: 0.9832\n",
      "Epoch 37/50\n",
      "327/327 [==============================] - 28s 85ms/step - loss: 0.0094 - f1_score: 0.9969 - val_loss: 0.0937 - val_f1_score: 0.9868\n",
      "Epoch 38/50\n",
      "327/327 [==============================] - 28s 85ms/step - loss: 0.0043 - f1_score: 0.9988 - val_loss: 0.0838 - val_f1_score: 0.9873\n",
      "Epoch 39/50\n",
      "327/327 [==============================] - 28s 85ms/step - loss: 0.0090 - f1_score: 0.9971 - val_loss: 0.0797 - val_f1_score: 0.9873\n",
      "Epoch 40/50\n",
      "327/327 [==============================] - 28s 85ms/step - loss: 0.0055 - f1_score: 0.9982 - val_loss: 0.1610 - val_f1_score: 0.9686\n",
      "Epoch 41/50\n",
      "327/327 [==============================] - 27s 84ms/step - loss: 0.0052 - f1_score: 0.9982 - val_loss: 0.0928 - val_f1_score: 0.9876\n",
      "Epoch 42/50\n",
      "327/327 [==============================] - 27s 83ms/step - loss: 0.0066 - f1_score: 0.9979 - val_loss: 0.0940 - val_f1_score: 0.9858\n",
      "Epoch 43/50\n",
      "327/327 [==============================] - 27s 84ms/step - loss: 0.0061 - f1_score: 0.9981 - val_loss: 0.0816 - val_f1_score: 0.9870\n",
      "Epoch 44/50\n",
      "327/327 [==============================] - 28s 85ms/step - loss: 0.0027 - f1_score: 0.9991 - val_loss: 0.1000 - val_f1_score: 0.9872\n",
      "Epoch 45/50\n",
      "327/327 [==============================] - 27s 83ms/step - loss: 0.0073 - f1_score: 0.9977 - val_loss: 0.0945 - val_f1_score: 0.9845\n",
      "Epoch 46/50\n",
      "327/327 [==============================] - 26s 79ms/step - loss: 0.0039 - f1_score: 0.9988 - val_loss: 0.1240 - val_f1_score: 0.9857\n",
      "Epoch 47/50\n",
      "327/327 [==============================] - 26s 81ms/step - loss: 0.0076 - f1_score: 0.9977 - val_loss: 0.0859 - val_f1_score: 0.9872\n",
      "Epoch 48/50\n",
      "327/327 [==============================] - 26s 79ms/step - loss: 0.0051 - f1_score: 0.9983 - val_loss: 0.0819 - val_f1_score: 0.9862\n",
      "Epoch 49/50\n",
      "327/327 [==============================] - 27s 81ms/step - loss: 0.0035 - f1_score: 0.9989 - val_loss: 0.0978 - val_f1_score: 0.9850\n",
      "Epoch 50/50\n",
      "327/327 [==============================] - 27s 81ms/step - loss: 0.0052 - f1_score: 0.9982 - val_loss: 0.0931 - val_f1_score: 0.9823\n",
      "685/685 [==============================] - 4s 6ms/step\n",
      "685/685 [==============================] - 4s 6ms/step\n",
      "              precision    recall  f1-score   support\n",
      "\n",
      "           N       0.99      0.99      0.99     18118\n",
      "           S       0.82      0.82      0.82       556\n",
      "           V       0.98      0.95      0.96      1448\n",
      "           F       0.77      0.83      0.80       162\n",
      "           Q       1.00      0.99      0.99      1608\n",
      "\n",
      "    accuracy                           0.98     21892\n",
      "   macro avg       0.91      0.91      0.91     21892\n",
      "weighted avg       0.98      0.98      0.98     21892\n",
      "\n"
     ]
    }
   ],
   "source": [
    "checkpoint_cb = ModelCheckpoint(\"senior_multi_diseases_4.h5\", save_best_only=True)\n",
    "\n",
    "model_conv1d_mit = build_conv1d_model_mit(input_shape=(x_train_mit.shape[1], x_train_mit.shape[2]))\n",
    "model_conv1d_mit.summary()\n",
    "history_conv1d_mit = model_conv1d_mit.fit(x_train_mit, y_train_mit, epochs=50, batch_size=300,\n",
    "                                          validation_data=(x_valid_mit, y_valid_mit), callbacks=[checkpoint_cb])\n",
    "model_conv1d_mit.load_weights(\"senior_multi_diseases_4.h5\")\n",
    "conv1d_pred_mit_proba = model_conv1d_mit.predict(x_test_mit)\n",
    "conv1d_pred_mit = np.argmax(conv1d_pred_mit_proba, axis=1)\n",
    "conv1d_pred_proba_mit = model_conv1d_mit.predict(x_test_mit)\n",
    "conv1d_pred_mit = np.argmax(conv1d_pred_proba_mit, axis=1)\n",
    "print(classification_report(out_test_mit, conv1d_pred_mit, target_names=[MIT_Outcome[i] for i in MIT_Outcome]))\n",
    "\n"
   ]
  },
  {
   "attachments": {},
   "cell_type": "markdown",
   "metadata": {},
   "source": [
    "### Evaluating the model"
   ]
  },
  {
   "cell_type": "code",
   "execution_count": 13,
   "metadata": {},
   "outputs": [
    {
     "name": "stdout",
     "output_type": "stream",
     "text": [
      "Accuracy: 98.36%\n",
      "dict_keys(['loss', 'f1_score', 'val_loss', 'val_f1_score'])\n"
     ]
    },
    {
     "data": {
      "image/png": "[encoded data removed]",
      "text/plain": [
       "<Figure size 1200x400 with 2 Axes>"
      ]
     },
     "metadata": {},
     "output_type": "display_data"
    }
   ],
   "source": [
    "def evaluate_model(model, X_test, y_test, history):\n",
    "    scores = model.evaluate(X_test, y_test, verbose=0)\n",
    "    print(\"Accuracy: {:.2f}%\".format(scores[1] * 100))\n",
    "    print(history.history.keys())\n",
    "    # Plot Accuracy and Loss\n",
    "    fig, (ax1, ax2) = plt.subplots(1, 2, figsize=(12, 4))\n",
    "    ax1.plot(history.history['f1_score'], label='Training')\n",
    "    ax1.plot(history.history['val_f1_score'], label='Validation')\n",
    "    ax1.set_title('Model Accuracy')\n",
    "    ax1.set_xlabel('Epoch')\n",
    "    ax1.set_ylabel('Accuracy')\n",
    "    ax1.legend()\n",
    "\n",
    "    ax2.plot(history.history['loss'], label='Training')\n",
    "    ax2.plot(history.history['val_loss'], label='Validation')\n",
    "    ax2.set_title('Model Loss')\n",
    "    ax2.set_xlabel('Epoch')\n",
    "    ax2.set_ylabel('Loss')\n",
    "    ax2.legend()\n",
    "    plt.show()\n",
    "\n",
    "evaluate_model(model_conv1d_mit, x_test_mit, y_test_mit, history_conv1d_mit)"
   ]
  },
  {
   "attachments": {},
   "cell_type": "markdown",
   "metadata": {},
   "source": [
    "### Confusion Matrix"
   ]
  },
  {
   "cell_type": "code",
   "execution_count": 14,
   "metadata": {},
   "outputs": [
    {
     "data": {
      "image/png": "[encoded data removed]",
      "text/plain": [
       "<Figure size 640x480 with 2 Axes>"
      ]
     },
     "metadata": {},
     "output_type": "display_data"
    }
   ],
   "source": [
    "def plot_confusion_matrix(cm, classes, normalize=False, title='Confusion matrix', cmap=plt.cm.Greens):\n",
    "    if normalize:\n",
    "        cm = cm.astype('float') / cm.sum(axis=1)[:, np.newaxis]\n",
    "\n",
    "    plt.imshow(cm, interpolation='nearest', cmap=cmap)\n",
    "    plt.title(title)\n",
    "    plt.colorbar()\n",
    "    tick_marks = np.arange(len(classes))\n",
    "    plt.xticks(tick_marks, classes, rotation=45)\n",
    "    plt.yticks(tick_marks, classes)\n",
    "\n",
    "    thresh = cm.max() / 2.\n",
    "    for i, j in itertools.product(range(cm.shape[0]), range(cm.shape[1])):\n",
    "        color = \"white\" if cm[i, j] > thresh else \"darkgreen\"\n",
    "        plt.text(j, i, format(cm[i, j], '.2f' if normalize else 'd'),\n",
    "                 horizontalalignment=\"center\", color=color)\n",
    "\n",
    "    plt.tight_layout()\n",
    "    plt.ylabel('True label')\n",
    "    plt.xlabel('Predicted label')\n",
    "    plt.show()\n",
    "\n",
    "\n",
    "cm = confusion_matrix(out_test_mit, conv1d_pred_mit)\n",
    "plot_confusion_matrix(cm, classes=[MIT_Outcome[i] for i in MIT_Outcome], normalize=True,\n",
    "                        title='Normalized confusion matrix')"
   ]
  }
 ],
 "metadata": {
  "kernelspec": {
   "display_name": "base",
   "language": "python",
   "name": "python3"
  },
  "language_info": {
   "codemirror_mode": {
    "name": "ipython",
    "version": 3
   },
   "file_extension": ".py",
   "mimetype": "text/x-python",
   "name": "python",
   "nbconvert_exporter": "python",
   "pygments_lexer": "ipython3",
   "version": "3.11.5"
  },
  "orig_nbformat": 4,
  "vscode": {
   "interpreter": {
    "hash": "8fc8c611f46987eee559f675a23f9decc328b5f4b17b1da313eae285b0f1b6a2"
   }
  }
 },
 "nbformat": 4,
 "nbformat_minor": 2
}
